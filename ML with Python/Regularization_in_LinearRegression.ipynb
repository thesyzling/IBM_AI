{
 "cells": [
  {
   "cell_type": "markdown",
   "metadata": {},
   "source": [
    "<p style=\"text-align:center\">\n",
    "    <a href=\"https://skills.network\" target=\"_blank\">\n",
    "    <img src=\"https://cf-courses-data.s3.us.cloud-object-storage.appdomain.cloud/assets/logos/SN_web_lightmode.png\" width=\"200\" alt=\"Skills Network Logo\">\n",
    "    </a>\n",
    "</p>\n",
    "\n",
    "\n",
    "# Regularization in Linear Regression\n",
    "Estimated time needed: **30** minutes\n",
    "    \n",
    "\n",
    "## Objectives\n",
    "\n",
    "\n",
    "After completing this lab you will be able to:\n",
    "\n",
    "* Implement, evaluate, and compare the performance of three regularization techniques for linear regression\n",
    "* Analyze the effect of simple linear regularization when modelling on noisy data with and without outliers\n",
    "* Use Lasso regularization to reduce the number of features for subsequent multiple linear regression modelling\n"
   ]
  },
  {
   "cell_type": "markdown",
   "metadata": {},
   "source": [
    "Before you begin the lab, ensure the availability of all the required libraries by executing the cell below.\n"
   ]
  },
  {
   "cell_type": "code",
   "execution_count": 1,
   "metadata": {},
   "outputs": [
    {
     "name": "stdout",
     "output_type": "stream",
     "text": [
      "Requirement already satisfied: numpy in /opt/conda/lib/python3.12/site-packages (2.2.0)\n",
      "Requirement already satisfied: pandas in /opt/conda/lib/python3.12/site-packages (2.2.3)\n",
      "Requirement already satisfied: numpy>=1.26.0 in /opt/conda/lib/python3.12/site-packages (from pandas) (2.2.0)\n",
      "Requirement already satisfied: python-dateutil>=2.8.2 in /opt/conda/lib/python3.12/site-packages (from pandas) (2.9.0.post0)\n",
      "Requirement already satisfied: pytz>=2020.1 in /opt/conda/lib/python3.12/site-packages (from pandas) (2024.2)\n",
      "Requirement already satisfied: tzdata>=2022.7 in /opt/conda/lib/python3.12/site-packages (from pandas) (2025.2)\n",
      "Requirement already satisfied: six>=1.5 in /opt/conda/lib/python3.12/site-packages (from python-dateutil>=2.8.2->pandas) (1.17.0)\n",
      "Requirement already satisfied: scikit-learn in /opt/conda/lib/python3.12/site-packages (1.6.0)\n",
      "Requirement already satisfied: numpy>=1.19.5 in /opt/conda/lib/python3.12/site-packages (from scikit-learn) (2.2.0)\n",
      "Requirement already satisfied: scipy>=1.6.0 in /opt/conda/lib/python3.12/site-packages (from scikit-learn) (1.14.1)\n",
      "Requirement already satisfied: joblib>=1.2.0 in /opt/conda/lib/python3.12/site-packages (from scikit-learn) (1.5.1)\n",
      "Requirement already satisfied: threadpoolctl>=3.1.0 in /opt/conda/lib/python3.12/site-packages (from scikit-learn) (3.6.0)\n",
      "Requirement already satisfied: matplotlib in /opt/conda/lib/python3.12/site-packages (3.9.3)\n",
      "Requirement already satisfied: contourpy>=1.0.1 in /opt/conda/lib/python3.12/site-packages (from matplotlib) (1.3.3)\n",
      "Requirement already satisfied: cycler>=0.10 in /opt/conda/lib/python3.12/site-packages (from matplotlib) (0.12.1)\n",
      "Requirement already satisfied: fonttools>=4.22.0 in /opt/conda/lib/python3.12/site-packages (from matplotlib) (4.59.0)\n",
      "Requirement already satisfied: kiwisolver>=1.3.1 in /opt/conda/lib/python3.12/site-packages (from matplotlib) (1.4.9)\n",
      "Requirement already satisfied: numpy>=1.23 in /opt/conda/lib/python3.12/site-packages (from matplotlib) (2.2.0)\n",
      "Requirement already satisfied: packaging>=20.0 in /opt/conda/lib/python3.12/site-packages (from matplotlib) (24.2)\n",
      "Requirement already satisfied: pillow>=8 in /opt/conda/lib/python3.12/site-packages (from matplotlib) (11.3.0)\n",
      "Requirement already satisfied: pyparsing>=2.3.1 in /opt/conda/lib/python3.12/site-packages (from matplotlib) (3.2.3)\n",
      "Requirement already satisfied: python-dateutil>=2.7 in /opt/conda/lib/python3.12/site-packages (from matplotlib) (2.9.0.post0)\n",
      "Requirement already satisfied: six>=1.5 in /opt/conda/lib/python3.12/site-packages (from python-dateutil>=2.7->matplotlib) (1.17.0)\n"
     ]
    }
   ],
   "source": [
    "!pip install numpy\n",
    "!pip install pandas\n",
    "!pip install scikit-learn\n",
    "!pip install matplotlib"
   ]
  },
  {
   "cell_type": "markdown",
   "metadata": {},
   "source": [
    "### Import the required libraries\n"
   ]
  },
  {
   "cell_type": "code",
   "execution_count": 2,
   "metadata": {},
   "outputs": [],
   "source": [
    "import numpy as np\n",
    "import pandas as pd\n",
    "import matplotlib.pyplot as plt\n",
    "from sklearn.model_selection import train_test_split\n",
    "from sklearn.linear_model import LinearRegression, Ridge, Lasso\n",
    "from sklearn.metrics import explained_variance_score, mean_absolute_error, mean_squared_error, r2_score"
   ]
  },
  {
   "cell_type": "markdown",
   "metadata": {},
   "source": [
    "### Define a function to display evaluation metrics \n",
    "We'll be evaluating several models, so its a good idea to make an evaluation function that includes the common metrics and explaned variances etc.\n"
   ]
  },
  {
   "cell_type": "code",
   "execution_count": 3,
   "metadata": {},
   "outputs": [],
   "source": [
    "def regression_results(y_true, y_pred, regr_type):\n",
    "\n",
    "    # Regression metrics\n",
    "    ev = explained_variance_score(y_true, y_pred)\n",
    "    mae = mean_absolute_error(y_true, y_pred) \n",
    "    mse = mean_squared_error(y_true, y_pred) \n",
    "    r2 = r2_score(y_true, y_pred)\n",
    "    \n",
    "    print('Evaluation metrics for ' + regr_type + ' Linear Regression')\n",
    "    print('explained_variance: ',  round(ev,4)) \n",
    "    print('r2: ', round(r2,4))\n",
    "    print('MAE: ', round(mae,4))\n",
    "    print('MSE: ', round(mse,4))\n",
    "    print('RMSE: ', round(np.sqrt(mse),4))\n",
    "    print()\n"
   ]
  },
  {
   "cell_type": "markdown",
   "metadata": {},
   "source": [
    "### Generate a simple dataset with one feature\n",
    "We'll create a simple data set with a linear relationship between the target and a single feature.\n",
    "We'll add some noise to the target to simulate real data.\n",
    "We'll also create a data set from this one that has outliers added. \n",
    "Then you'll compare the three linear regression model performances on the two datasets, with and without sigiifcant outliers added.\n"
   ]
  },
  {
   "cell_type": "code",
   "execution_count": 4,
   "metadata": {},
   "outputs": [],
   "source": [
    "# Generate synthetic data\n",
    "noise=1\n",
    "np.random.seed(42)\n",
    "X = 2 * np.random.rand(1000, 1)\n",
    "y = 4 + 3 * X + noise*np.random.randn(1000, 1)  # Linear relationship with some noise\n",
    "y_ideal =  4 + 3 * X\n",
    "# Specify the portion of the dataset to add outliers (e.g., the last 20%)\n",
    "y_outlier = pd.Series(y.reshape(-1).copy())\n",
    "\n",
    "# Identify indices where the feature variable X is greater than a certain threshold\n",
    "threshold = 1.5  # Example threshold to add outliers for larger feature values\n",
    "outlier_indices = np.where(X.flatten() > threshold)[0]\n",
    "\n",
    "# Add outliers at random locations within the specified portion\n",
    "num_outliers = 5  # Number of outliers to add\n",
    "selected_indices = np.random.choice(outlier_indices, num_outliers, replace=False)\n",
    "\n",
    "# Modify the target values at these indices to create outliers (add significant noise)\n",
    "y_outlier[selected_indices] += np.random.uniform(50, 100, num_outliers)"
   ]
  },
  {
   "cell_type": "markdown",
   "metadata": {},
   "source": [
    "### Plot the data with outliers and the ideal fit line\n"
   ]
  },
  {
   "cell_type": "code",
   "execution_count": 5,
   "metadata": {},
   "outputs": [
    {
     "data": {
      "image/png": "[encoded data removed]",
      "text/plain": [
       "<Figure size 1200x600 with 1 Axes>"
      ]
     },
     "metadata": {},
     "output_type": "display_data"
    }
   ],
   "source": [
    "plt.figure(figsize=(12, 6))\n",
    "\n",
    "# Scatter plot of the original data with outliers\n",
    "plt.scatter(X, y_outlier, alpha=0.4,ec='k', label='Original Data with Outliers')\n",
    "plt.plot(X, y_ideal,  linewidth=3, color='g',label='Ideal, noise free data')\n",
    "\n",
    "plt.xlabel('Feature (X)')\n",
    "plt.ylabel('Target (y)')\n",
    "plt.title('')\n",
    "plt.legend()\n",
    "plt.show()\n"
   ]
  },
  {
   "cell_type": "markdown",
   "metadata": {},
   "source": [
    "### Exercise 1. Plot the data without the outliers and the ideal fit line\n"
   ]
  },
  {
   "cell_type": "code",
   "execution_count": 6,
   "metadata": {},
   "outputs": [
    {
     "ename": "ValueError",
     "evalue": "x and y must be the same size",
     "output_type": "error",
     "traceback": [
      "\u001b[0;31m---------------------------------------------------------------------------\u001b[0m",
      "\u001b[0;31mValueError\u001b[0m                                Traceback (most recent call last)",
      "Cell \u001b[0;32mIn[6], line 5\u001b[0m\n\u001b[1;32m      2\u001b[0m plt\u001b[38;5;241m.\u001b[39mfigure(figsize\u001b[38;5;241m=\u001b[39m(\u001b[38;5;241m12\u001b[39m, \u001b[38;5;241m6\u001b[39m))\n\u001b[1;32m      4\u001b[0m \u001b[38;5;66;03m# Scatter plot of the original data with outliers\u001b[39;00m\n\u001b[0;32m----> 5\u001b[0m \u001b[43mplt\u001b[49m\u001b[38;5;241;43m.\u001b[39;49m\u001b[43mscatter\u001b[49m\u001b[43m(\u001b[49m\u001b[38;5;241;43m.\u001b[39;49m\u001b[38;5;241;43m.\u001b[39;49m\u001b[38;5;241;43m.\u001b[39;49m\u001b[43m,\u001b[49m\u001b[43m \u001b[49m\u001b[43my\u001b[49m\u001b[43m,\u001b[49m\u001b[43m \u001b[49m\u001b[43malpha\u001b[49m\u001b[38;5;241;43m=\u001b[39;49m\u001b[38;5;241;43m0.4\u001b[39;49m\u001b[43m,\u001b[49m\u001b[43mec\u001b[49m\u001b[38;5;241;43m=\u001b[39;49m\u001b[38;5;124;43m'\u001b[39;49m\u001b[38;5;124;43mk\u001b[39;49m\u001b[38;5;124;43m'\u001b[39;49m\u001b[43m,\u001b[49m\u001b[43m \u001b[49m\u001b[43mlabel\u001b[49m\u001b[38;5;241;43m=\u001b[39;49m\u001b[38;5;124;43m'\u001b[39;49m\u001b[38;5;124;43mOriginal Data without Outliers\u001b[39;49m\u001b[38;5;124;43m'\u001b[39;49m\u001b[43m)\u001b[49m\n\u001b[1;32m      6\u001b[0m plt\u001b[38;5;241m.\u001b[39mplot(\u001b[38;5;241m.\u001b[39m\u001b[38;5;241m.\u001b[39m\u001b[38;5;241m.\u001b[39m, \u001b[38;5;241m.\u001b[39m\u001b[38;5;241m.\u001b[39m\u001b[38;5;241m.\u001b[39m,  linewidth\u001b[38;5;241m=\u001b[39m\u001b[38;5;241m4\u001b[39m, color\u001b[38;5;241m=\u001b[39m\u001b[38;5;124m'\u001b[39m\u001b[38;5;124mg\u001b[39m\u001b[38;5;124m'\u001b[39m,label\u001b[38;5;241m=\u001b[39m\u001b[38;5;124m'\u001b[39m\u001b[38;5;124mIdeal, noise free data\u001b[39m\u001b[38;5;124m'\u001b[39m)\n\u001b[1;32m      8\u001b[0m plt\u001b[38;5;241m.\u001b[39mxlabel(\u001b[38;5;124m'\u001b[39m\u001b[38;5;124mFeature (X)\u001b[39m\u001b[38;5;124m'\u001b[39m)\n",
      "File \u001b[0;32m/opt/conda/lib/python3.12/site-packages/matplotlib/pyplot.py:3903\u001b[0m, in \u001b[0;36mscatter\u001b[0;34m(x, y, s, c, marker, cmap, norm, vmin, vmax, alpha, linewidths, edgecolors, plotnonfinite, data, **kwargs)\u001b[0m\n\u001b[1;32m   3884\u001b[0m \u001b[38;5;129m@_copy_docstring_and_deprecators\u001b[39m(Axes\u001b[38;5;241m.\u001b[39mscatter)\n\u001b[1;32m   3885\u001b[0m \u001b[38;5;28;01mdef\u001b[39;00m\u001b[38;5;250m \u001b[39m\u001b[38;5;21mscatter\u001b[39m(\n\u001b[1;32m   3886\u001b[0m     x: \u001b[38;5;28mfloat\u001b[39m \u001b[38;5;241m|\u001b[39m ArrayLike,\n\u001b[0;32m   (...)\u001b[0m\n\u001b[1;32m   3901\u001b[0m     \u001b[38;5;241m*\u001b[39m\u001b[38;5;241m*\u001b[39mkwargs,\n\u001b[1;32m   3902\u001b[0m ) \u001b[38;5;241m-\u001b[39m\u001b[38;5;241m>\u001b[39m PathCollection:\n\u001b[0;32m-> 3903\u001b[0m     __ret \u001b[38;5;241m=\u001b[39m \u001b[43mgca\u001b[49m\u001b[43m(\u001b[49m\u001b[43m)\u001b[49m\u001b[38;5;241;43m.\u001b[39;49m\u001b[43mscatter\u001b[49m\u001b[43m(\u001b[49m\n\u001b[1;32m   3904\u001b[0m \u001b[43m        \u001b[49m\u001b[43mx\u001b[49m\u001b[43m,\u001b[49m\n\u001b[1;32m   3905\u001b[0m \u001b[43m        \u001b[49m\u001b[43my\u001b[49m\u001b[43m,\u001b[49m\n\u001b[1;32m   3906\u001b[0m \u001b[43m        \u001b[49m\u001b[43ms\u001b[49m\u001b[38;5;241;43m=\u001b[39;49m\u001b[43ms\u001b[49m\u001b[43m,\u001b[49m\n\u001b[1;32m   3907\u001b[0m \u001b[43m        \u001b[49m\u001b[43mc\u001b[49m\u001b[38;5;241;43m=\u001b[39;49m\u001b[43mc\u001b[49m\u001b[43m,\u001b[49m\n\u001b[1;32m   3908\u001b[0m \u001b[43m        \u001b[49m\u001b[43mmarker\u001b[49m\u001b[38;5;241;43m=\u001b[39;49m\u001b[43mmarker\u001b[49m\u001b[43m,\u001b[49m\n\u001b[1;32m   3909\u001b[0m \u001b[43m        \u001b[49m\u001b[43mcmap\u001b[49m\u001b[38;5;241;43m=\u001b[39;49m\u001b[43mcmap\u001b[49m\u001b[43m,\u001b[49m\n\u001b[1;32m   3910\u001b[0m \u001b[43m        \u001b[49m\u001b[43mnorm\u001b[49m\u001b[38;5;241;43m=\u001b[39;49m\u001b[43mnorm\u001b[49m\u001b[43m,\u001b[49m\n\u001b[1;32m   3911\u001b[0m \u001b[43m        \u001b[49m\u001b[43mvmin\u001b[49m\u001b[38;5;241;43m=\u001b[39;49m\u001b[43mvmin\u001b[49m\u001b[43m,\u001b[49m\n\u001b[1;32m   3912\u001b[0m \u001b[43m        \u001b[49m\u001b[43mvmax\u001b[49m\u001b[38;5;241;43m=\u001b[39;49m\u001b[43mvmax\u001b[49m\u001b[43m,\u001b[49m\n\u001b[1;32m   3913\u001b[0m \u001b[43m        \u001b[49m\u001b[43malpha\u001b[49m\u001b[38;5;241;43m=\u001b[39;49m\u001b[43malpha\u001b[49m\u001b[43m,\u001b[49m\n\u001b[1;32m   3914\u001b[0m \u001b[43m        \u001b[49m\u001b[43mlinewidths\u001b[49m\u001b[38;5;241;43m=\u001b[39;49m\u001b[43mlinewidths\u001b[49m\u001b[43m,\u001b[49m\n\u001b[1;32m   3915\u001b[0m \u001b[43m        \u001b[49m\u001b[43medgecolors\u001b[49m\u001b[38;5;241;43m=\u001b[39;49m\u001b[43medgecolors\u001b[49m\u001b[43m,\u001b[49m\n\u001b[1;32m   3916\u001b[0m \u001b[43m        \u001b[49m\u001b[43mplotnonfinite\u001b[49m\u001b[38;5;241;43m=\u001b[39;49m\u001b[43mplotnonfinite\u001b[49m\u001b[43m,\u001b[49m\n\u001b[1;32m   3917\u001b[0m \u001b[43m        \u001b[49m\u001b[38;5;241;43m*\u001b[39;49m\u001b[38;5;241;43m*\u001b[39;49m\u001b[43m(\u001b[49m\u001b[43m{\u001b[49m\u001b[38;5;124;43m\"\u001b[39;49m\u001b[38;5;124;43mdata\u001b[39;49m\u001b[38;5;124;43m\"\u001b[39;49m\u001b[43m:\u001b[49m\u001b[43m \u001b[49m\u001b[43mdata\u001b[49m\u001b[43m}\u001b[49m\u001b[43m \u001b[49m\u001b[38;5;28;43;01mif\u001b[39;49;00m\u001b[43m \u001b[49m\u001b[43mdata\u001b[49m\u001b[43m \u001b[49m\u001b[38;5;129;43;01mis\u001b[39;49;00m\u001b[43m \u001b[49m\u001b[38;5;129;43;01mnot\u001b[39;49;00m\u001b[43m \u001b[49m\u001b[38;5;28;43;01mNone\u001b[39;49;00m\u001b[43m \u001b[49m\u001b[38;5;28;43;01melse\u001b[39;49;00m\u001b[43m \u001b[49m\u001b[43m{\u001b[49m\u001b[43m}\u001b[49m\u001b[43m)\u001b[49m\u001b[43m,\u001b[49m\n\u001b[1;32m   3918\u001b[0m \u001b[43m        \u001b[49m\u001b[38;5;241;43m*\u001b[39;49m\u001b[38;5;241;43m*\u001b[39;49m\u001b[43mkwargs\u001b[49m\u001b[43m,\u001b[49m\n\u001b[1;32m   3919\u001b[0m \u001b[43m    \u001b[49m\u001b[43m)\u001b[49m\n\u001b[1;32m   3920\u001b[0m     sci(__ret)\n\u001b[1;32m   3921\u001b[0m     \u001b[38;5;28;01mreturn\u001b[39;00m __ret\n",
      "File \u001b[0;32m/opt/conda/lib/python3.12/site-packages/matplotlib/__init__.py:1476\u001b[0m, in \u001b[0;36m_preprocess_data.<locals>.inner\u001b[0;34m(ax, data, *args, **kwargs)\u001b[0m\n\u001b[1;32m   1473\u001b[0m \u001b[38;5;129m@functools\u001b[39m\u001b[38;5;241m.\u001b[39mwraps(func)\n\u001b[1;32m   1474\u001b[0m \u001b[38;5;28;01mdef\u001b[39;00m\u001b[38;5;250m \u001b[39m\u001b[38;5;21minner\u001b[39m(ax, \u001b[38;5;241m*\u001b[39margs, data\u001b[38;5;241m=\u001b[39m\u001b[38;5;28;01mNone\u001b[39;00m, \u001b[38;5;241m*\u001b[39m\u001b[38;5;241m*\u001b[39mkwargs):\n\u001b[1;32m   1475\u001b[0m     \u001b[38;5;28;01mif\u001b[39;00m data \u001b[38;5;129;01mis\u001b[39;00m \u001b[38;5;28;01mNone\u001b[39;00m:\n\u001b[0;32m-> 1476\u001b[0m         \u001b[38;5;28;01mreturn\u001b[39;00m \u001b[43mfunc\u001b[49m\u001b[43m(\u001b[49m\n\u001b[1;32m   1477\u001b[0m \u001b[43m            \u001b[49m\u001b[43max\u001b[49m\u001b[43m,\u001b[49m\n\u001b[1;32m   1478\u001b[0m \u001b[43m            \u001b[49m\u001b[38;5;241;43m*\u001b[39;49m\u001b[38;5;28;43mmap\u001b[39;49m\u001b[43m(\u001b[49m\u001b[43msanitize_sequence\u001b[49m\u001b[43m,\u001b[49m\u001b[43m \u001b[49m\u001b[43margs\u001b[49m\u001b[43m)\u001b[49m\u001b[43m,\u001b[49m\n\u001b[1;32m   1479\u001b[0m \u001b[43m            \u001b[49m\u001b[38;5;241;43m*\u001b[39;49m\u001b[38;5;241;43m*\u001b[39;49m\u001b[43m{\u001b[49m\u001b[43mk\u001b[49m\u001b[43m:\u001b[49m\u001b[43m \u001b[49m\u001b[43msanitize_sequence\u001b[49m\u001b[43m(\u001b[49m\u001b[43mv\u001b[49m\u001b[43m)\u001b[49m\u001b[43m \u001b[49m\u001b[38;5;28;43;01mfor\u001b[39;49;00m\u001b[43m \u001b[49m\u001b[43mk\u001b[49m\u001b[43m,\u001b[49m\u001b[43m \u001b[49m\u001b[43mv\u001b[49m\u001b[43m \u001b[49m\u001b[38;5;129;43;01min\u001b[39;49;00m\u001b[43m \u001b[49m\u001b[43mkwargs\u001b[49m\u001b[38;5;241;43m.\u001b[39;49m\u001b[43mitems\u001b[49m\u001b[43m(\u001b[49m\u001b[43m)\u001b[49m\u001b[43m}\u001b[49m\u001b[43m)\u001b[49m\n\u001b[1;32m   1481\u001b[0m     bound \u001b[38;5;241m=\u001b[39m new_sig\u001b[38;5;241m.\u001b[39mbind(ax, \u001b[38;5;241m*\u001b[39margs, \u001b[38;5;241m*\u001b[39m\u001b[38;5;241m*\u001b[39mkwargs)\n\u001b[1;32m   1482\u001b[0m     auto_label \u001b[38;5;241m=\u001b[39m (bound\u001b[38;5;241m.\u001b[39marguments\u001b[38;5;241m.\u001b[39mget(label_namer)\n\u001b[1;32m   1483\u001b[0m                   \u001b[38;5;129;01mor\u001b[39;00m bound\u001b[38;5;241m.\u001b[39mkwargs\u001b[38;5;241m.\u001b[39mget(label_namer))\n",
      "File \u001b[0;32m/opt/conda/lib/python3.12/site-packages/matplotlib/axes/_axes.py:4787\u001b[0m, in \u001b[0;36mAxes.scatter\u001b[0;34m(self, x, y, s, c, marker, cmap, norm, vmin, vmax, alpha, linewidths, edgecolors, plotnonfinite, **kwargs)\u001b[0m\n\u001b[1;32m   4785\u001b[0m y \u001b[38;5;241m=\u001b[39m np\u001b[38;5;241m.\u001b[39mma\u001b[38;5;241m.\u001b[39mravel(y)\n\u001b[1;32m   4786\u001b[0m \u001b[38;5;28;01mif\u001b[39;00m x\u001b[38;5;241m.\u001b[39msize \u001b[38;5;241m!=\u001b[39m y\u001b[38;5;241m.\u001b[39msize:\n\u001b[0;32m-> 4787\u001b[0m     \u001b[38;5;28;01mraise\u001b[39;00m \u001b[38;5;167;01mValueError\u001b[39;00m(\u001b[38;5;124m\"\u001b[39m\u001b[38;5;124mx and y must be the same size\u001b[39m\u001b[38;5;124m\"\u001b[39m)\n\u001b[1;32m   4789\u001b[0m \u001b[38;5;28;01mif\u001b[39;00m s \u001b[38;5;129;01mis\u001b[39;00m \u001b[38;5;28;01mNone\u001b[39;00m:\n\u001b[1;32m   4790\u001b[0m     s \u001b[38;5;241m=\u001b[39m (\u001b[38;5;241m20\u001b[39m \u001b[38;5;28;01mif\u001b[39;00m mpl\u001b[38;5;241m.\u001b[39mrcParams[\u001b[38;5;124m'\u001b[39m\u001b[38;5;124m_internal.classic_mode\u001b[39m\u001b[38;5;124m'\u001b[39m] \u001b[38;5;28;01melse\u001b[39;00m\n\u001b[1;32m   4791\u001b[0m          mpl\u001b[38;5;241m.\u001b[39mrcParams[\u001b[38;5;124m'\u001b[39m\u001b[38;5;124mlines.markersize\u001b[39m\u001b[38;5;124m'\u001b[39m] \u001b[38;5;241m*\u001b[39m\u001b[38;5;241m*\u001b[39m \u001b[38;5;241m2.0\u001b[39m)\n",
      "\u001b[0;31mValueError\u001b[0m: x and y must be the same size"
     ]
    },
    {
     "data": {
      "image/png": "[encoded data removed]",
      "text/plain": [
       "<Figure size 1200x600 with 1 Axes>"
      ]
     },
     "metadata": {},
     "output_type": "display_data"
    }
   ],
   "source": [
    "# Enter your code here\n",
    "plt.figure(figsize=(12, 6))\n",
    "\n",
    "# Scatter plot of the original data with outliers\n",
    "plt.scatter(..., y, alpha=0.4,ec='k', label='Original Data without Outliers')\n",
    "plt.plot(..., ...,  linewidth=4, color='g',label='Ideal, noise free data')\n",
    "\n",
    "plt.xlabel('Feature (X)')\n",
    "plt.ylabel('Target (y)')\n",
    "plt.title('')\n",
    "plt.legend()\n",
    "plt.show()\n"
   ]
  },
  {
   "cell_type": "markdown",
   "metadata": {},
   "source": [
    "<details><summary>Click here for the solution</summary>\n",
    "    \n",
    "```python\n",
    "    \n",
    "plt.figure(figsize=(12, 6))\n",
    "\n",
    "# Scatter plot of the original data with outliers\n",
    "plt.scatter(X, y, alpha=0.4,ec='k', label='Original Data without Outliers')\n",
    "plt.plot(X, y_ideal,  linewidth=4, color='g',label='Ideal, noise free data')\n",
    "\n",
    "plt.xlabel('Feature (X)')\n",
    "plt.ylabel('Target (y)')\n",
    "plt.title('')\n",
    "plt.legend()\n",
    "plt.show()\n",
    "```\n"
   ]
  },
  {
   "cell_type": "markdown",
   "metadata": {},
   "source": [
    "### Fit Ordinary, Ridge, and Lasso regression models and use them to make predicitions on the original, outlier-free data\n"
   ]
  },
  {
   "cell_type": "code",
   "execution_count": null,
   "metadata": {},
   "outputs": [],
   "source": [
    "# Fit a simple linear regression model\n",
    "lin_reg = LinearRegression()\n",
    "lin_reg.fit(X, y_outlier)\n",
    "y_outlier_pred_lin = lin_reg.predict(X)\n",
    "\n",
    "# Fit a ridge regression model (regularization to control large coefficients)\n",
    "ridge_reg = Ridge(alpha=1)\n",
    "ridge_reg.fit(X, y_outlier)\n",
    "y_outlier_pred_ridge = ridge_reg.predict(X)\n",
    "\n",
    "# Fit a lasso regression model (regularization to control large coefficients)\n",
    "lasso_reg = Lasso(alpha=.2)\n",
    "lasso_reg.fit(X, y_outlier)\n",
    "y_outlier_pred_lasso = lasso_reg.predict(X)"
   ]
  },
  {
   "cell_type": "markdown",
   "metadata": {},
   "source": [
    "### Print the regression results\n"
   ]
  },
  {
   "cell_type": "code",
   "execution_count": null,
   "metadata": {},
   "outputs": [],
   "source": [
    "regression_results(y, y_outlier_pred_lin, 'Ordinary')\n",
    "regression_results(y, y_outlier_pred_ridge, 'Ridge')\n",
    "regression_results(y, y_outlier_pred_lasso, 'Lasso')"
   ]
  },
  {
   "cell_type": "markdown",
   "metadata": {},
   "source": [
    "Judging from the low R^2 values, these are poor predictions\n",
    "### Plot the data and the predictions for comparison\n",
    "Let's see how well the predictions match expected ideal values.\n"
   ]
  },
  {
   "cell_type": "code",
   "execution_count": null,
   "metadata": {},
   "outputs": [],
   "source": [
    "plt.figure(figsize=(12, 6))\n",
    "\n",
    "# Scatter plot of the original data with outliers\n",
    "plt.scatter(X, y, alpha=0.4,ec='k', label='Original Data')\n",
    "\n",
    "# Plot the ideal regression line (noise free data)\n",
    "plt.plot(X, y_ideal,  linewidth=2, color='k',label='Ideal, noise free data')\n",
    "\n",
    "# Plot predictions from the simple linear regression model\n",
    "plt.plot(X, y_outlier_pred_lin,  linewidth=5, label='Linear Regression')\n",
    "\n",
    "# Plot predictions from the ridge regression model\n",
    "plt.plot(X, y_outlier_pred_ridge, linestyle='--', linewidth=2, label='Ridge Regression')\n",
    "\n",
    "# Plot predictions from the lasso regression model\n",
    "plt.plot(X, y_outlier_pred_lasso,  linewidth=2, label='Lasso Regression')\n",
    "\n",
    "plt.xlabel('Feature (X)')\n",
    "plt.ylabel('Target (y)')\n",
    "plt.title('Comparison of Predictions with Outliers')\n",
    "plt.legend()\n",
    "plt.show()"
   ]
  },
  {
   "cell_type": "markdown",
   "metadata": {},
   "source": [
    "As you can see, ordinary linear and ridge resgression performed similarly, while Lasso outperformed both. \n",
    "\n",
    "Although the intercept is off for the Lasso fit line, it's slope is much closer to the ideal than the other fit lines.\n",
    "\n",
    "All three lines were 'pulled up' by the outliers (not plotted here - compare to the plot above where the outliers are shown), with Lasso dampening that effect.\n"
   ]
  },
  {
   "cell_type": "markdown",
   "metadata": {},
   "source": [
    "### Exercise 2. Build the models and the prediction plots from the same data, excluding the outliers\n"
   ]
  },
  {
   "cell_type": "code",
   "execution_count": null,
   "metadata": {},
   "outputs": [],
   "source": [
    "# Enter your code here:\n",
    "\n",
    "# Fit a simple linear regression model\n",
    "lin_reg = LinearRegression()\n",
    "lin_reg.fit(X, y)\n",
    "y_pred_lin = lin_reg.predict(X)\n",
    "\n",
    "# Fit a ridge regression model (regularization to control large coefficients)\n",
    "ridge_reg = Ridge(alpha=1)\n",
    "ridge_reg.fit(X, y)\n",
    "y_pred_ridge = ridge_reg.predict(X)\n",
    "\n",
    "# Fit a lasso regression model (regularization to control large coefficients)\n",
    "lasso_reg = Lasso(alpha=0.2)\n",
    "lasso_reg.fit(X, y)\n",
    "y_pred_lasso = lasso_reg.predict(X)\n",
    "\n",
    "# Print the regression results\n",
    "regression_results(y, y_pred_lin, 'Ordinary')\n",
    "regression_results(y, y_pred_ridge, 'Ridge')\n",
    "regression_results(y, y_pred_lasso, 'Lasso')\n",
    "\n",
    "\n",
    "# Plot the data and the predictions\n",
    "plt.figure(figsize=(12, 8))\n",
    "\n",
    "# # Scatter plot of the original data\n",
    "plt.scatter(X, y, alpha=0.4,ec='k', label='Original Data')\n",
    "\n",
    "# Plot the ideal regression line (noise free data)\n",
    "plt.plot(X, y_ideal,  linewidth=2, color='k',label='Ideal, noise free data')\n",
    "\n",
    "# Plot predictions from the simple linear regression model\n",
    "plt.plot(X, y_pred_lin,  linewidth=5, label='Linear Regression')\n",
    "\n",
    "# Plot predictions from the ridge regression model\n",
    "plt.plot(X, y_pred_ridge, linestyle='--',linewidth=2, label='Ridge Regression')\n",
    "\n",
    "# Plot predictions from the lasso regression model\n",
    "plt.plot(X, y_pred_lasso,  linewidth=2, label='Lasso Regression')\n",
    "\n",
    "plt.xlabel('Feature (X)')\n",
    "plt.ylabel('Target (y)')\n",
    "# plt.ylim((0,20))\n",
    "plt.title('Comparison of predictions with no outliers')\n",
    "plt.legend()\n",
    "plt.show()"
   ]
  },
  {
   "cell_type": "markdown",
   "metadata": {},
   "source": [
    "<details><summary>Click here for the solution</summary>\n",
    "    \n",
    "```python\n",
    "   \n",
    "# Fit a simple linear regression model\n",
    "lin_reg = LinearRegression()\n",
    "lin_reg.fit(X, y)\n",
    "y_pred_lin = lin_reg.predict(X)\n",
    "\n",
    "# Fit a ridge regression model (regularization to control large coefficients)\n",
    "ridge_reg = Ridge(alpha=1)\n",
    "ridge_reg.fit(X, y)\n",
    "y_pred_ridge = ridge_reg.predict(X)\n",
    "\n",
    "# Fit a lasso regression model (regularization to control large coefficients)\n",
    "lasso_reg = Lasso(alpha=0.2)\n",
    "lasso_reg.fit(X, y)\n",
    "y_pred_lasso = lasso_reg.predict(X)\n",
    "\n",
    "# Print the regression results\n",
    "regression_results(y, y_pred_lin, 'Ordinary')\n",
    "regression_results(y, y_pred_ridge, 'Ridge')\n",
    "regression_results(y, y_pred_lasso, 'Lasso')\n",
    "\n",
    "\n",
    "# Plot the data and the predictions\n",
    "plt.figure(figsize=(12, 8))\n",
    "\n",
    "# # Scatter plot of the original data\n",
    "plt.scatter(X, y, alpha=0.4,ec='k', label='Original Data')\n",
    "\n",
    "# Plot the ideal regression line (noise free data)\n",
    "plt.plot(X, y_ideal,  linewidth=2, color='k',label='Ideal, noise free data')\n",
    "\n",
    "# Plot predictions from the simple linear regression model\n",
    "plt.plot(X, y_pred_lin,  linewidth=5, label='Linear Regression')\n",
    "\n",
    "# Plot predictions from the ridge regression model\n",
    "plt.plot(X, y_pred_ridge, linestyle='--',linewidth=2, label='Ridge Regression')\n",
    "\n",
    "# Plot predictions from the lasso regression model\n",
    "plt.plot(X, y_pred_lasso,  linewidth=2, label='Lasso Regression')\n",
    "\n",
    "plt.xlabel('Feature (X)')\n",
    "plt.ylabel('Target (y)')\n",
    "# plt.ylim((0,20))\n",
    "plt.title('Comparison of predictions with no outliers')\n",
    "plt.legend()\n",
    "plt.show()\n",
    "```\n"
   ]
  },
  {
   "cell_type": "markdown",
   "metadata": {},
   "source": [
    "## Multiple regression regularization and Lasso feature selction\n",
    "Now that you have explored regularization for simple, one-dimensional regression, let's take a deeper look at a multiple regression modelling scenario.\n",
    "You'll again compare performances of the three inear regression methods and then use the Lasso result to select important features to use in another modelling pass.\n"
   ]
  },
  {
   "cell_type": "markdown",
   "metadata": {},
   "source": [
    "### Create a high dimensional synthetic dataset with a small number of informative features using `make_regression`\n",
    "\n",
    "The output of `make_regression` is generated by applying a random linear regression model based on `n_informative` nonzero regressors and some adjustable gaussian noise.\n",
    "Along with the features and the target vairable, the regression model coefficients can also be obtained from the output.\n",
    "\n",
    "We'll split the data into training and testing sets, and also split the ideal predictions, which is a line based on the linear regression model.\n"
   ]
  },
  {
   "cell_type": "code",
   "execution_count": null,
   "metadata": {},
   "outputs": [],
   "source": [
    "from sklearn.datasets import make_regression\n",
    "\n",
    "X, y, ideal_coef = make_regression(n_samples=100, n_features=100, n_informative=10, noise=10, random_state=42, coef=True)\n",
    "\n",
    "# Get the ideal predictions based on the informative coefficients used in the regression model\n",
    "ideal_predictions = X @ ideal_coef\n",
    "\n",
    "# Split the dataset into training and testing sets\n",
    "X_train, X_test, y_train, y_test, ideal_train, ideal_test = train_test_split(X, y, ideal_predictions, test_size=0.3, random_state=42)"
   ]
  },
  {
   "cell_type": "markdown",
   "metadata": {},
   "source": [
    "### Initialize and fit the linear regression models and use them to predict the target.\n"
   ]
  },
  {
   "cell_type": "code",
   "execution_count": null,
   "metadata": {},
   "outputs": [],
   "source": [
    "lasso = Lasso(alpha=0.1)\n",
    "ridge = Ridge(alpha=1.0)\n",
    "linear = LinearRegression()\n",
    "\n",
    "# Fit the models\n",
    "lasso.fit(X_train, y_train)\n",
    "ridge.fit(X_train, y_train)\n",
    "linear.fit(X_train, y_train)\n",
    "\n",
    "# Predict on the test set\n",
    "y_pred_linear = linear.predict(X_test)\n",
    "y_pred_ridge = ridge.predict(X_test)\n",
    "y_pred_lasso = lasso.predict(X_test)"
   ]
  },
  {
   "cell_type": "markdown",
   "metadata": {},
   "source": [
    "### Print the regression results\n"
   ]
  },
  {
   "cell_type": "code",
   "execution_count": null,
   "metadata": {},
   "outputs": [],
   "source": [
    "regression_results(y_test, y_pred_linear, 'Ordinary')\n",
    "regression_results(y_test, y_pred_ridge, 'Ridge')\n",
    "regression_results(y_test, y_pred_lasso, 'Lasso')"
   ]
  },
  {
   "cell_type": "markdown",
   "metadata": {},
   "source": [
    "### Exercise 3. Do you have some immediate thoughts on these performance metrics?\n"
   ]
  },
  {
   "cell_type": "code",
   "execution_count": null,
   "metadata": {},
   "outputs": [],
   "source": [
    "#### Enter your thoughts here (you can convert the cell to markdown)\n"
   ]
  },
  {
   "cell_type": "markdown",
   "metadata": {},
   "source": [
    "<details><summary>Click here for the solution</summary>\n",
    "    \n",
    "The results for ordinary and ridge regession are poor. \n",
    "\n",
    "Explained variances are under 50%, and R^2 is very low.\n",
    "\n",
    "However, ther result for Lasso is stellar.\n"
   ]
  },
  {
   "cell_type": "markdown",
   "metadata": {},
   "source": [
    "### Plot the predictions vs actuals \n",
    "Let's get some more insight into the perfomance of these models.\n"
   ]
  },
  {
   "cell_type": "code",
   "execution_count": null,
   "metadata": {},
   "outputs": [],
   "source": [
    "fig, axes = plt.subplots(2, 3, figsize=(18, 10), sharey=True)\n",
    "\n",
    "axes[0,0].scatter(y_test, y_pred_linear, color=\"red\", label=\"Linear\")\n",
    "axes[0,0].plot([y_test.min(), y_test.max()], [y_test.min(), y_test.max()], 'k--')\n",
    "axes[0,0].set_title(\"Linear Regression\")\n",
    "axes[0,0].set_xlabel(\"Actual\",)\n",
    "axes[0,0].set_ylabel(\"Predicted\",)\n",
    "\n",
    "axes[0,2].scatter(y_test, y_pred_lasso, color=\"blue\", label=\"Lasso\")\n",
    "axes[0,2].plot([y_test.min(), y_test.max()], [y_test.min(), y_test.max()], 'k--')\n",
    "axes[0,2].set_title(\"Lasso Regression\",)\n",
    "axes[0,2].set_xlabel(\"Actual\",)\n",
    "\n",
    "axes[0,1].scatter(y_test, y_pred_ridge, color=\"green\", label=\"Ridge\")\n",
    "axes[0,1].plot([y_test.min(), y_test.max()], [y_test.min(), y_test.max()], 'k--')\n",
    "axes[0,1].set_title(\"Ridge Regression\",)\n",
    "axes[0,1].set_xlabel(\"Actual\",)\n",
    "\n",
    "axes[0,2].scatter(y_test, y_pred_lasso, color=\"blue\", label=\"Lasso\")\n",
    "axes[0,2].plot([y_test.min(), y_test.max()], [y_test.min(), y_test.max()], 'k--')\n",
    "axes[0,2].set_title(\"Lasso Regression\",)\n",
    "axes[0,2].set_xlabel(\"Actual\",)\n",
    "\n",
    "\n",
    "# Line plots for predictions compared to actual and ideal predictions\n",
    "axes[1,0].plot(y_test, label=\"Actual\", lw=2)\n",
    "axes[1,0].plot(y_pred_linear, '--', lw=2, color='red', label=\"Linear\")\n",
    "axes[1,0].set_title(\"Linear vs Ideal\",)\n",
    "axes[1,0].legend()\n",
    " \n",
    "axes[1,1].plot(y_test, label=\"Actual\", lw=2)\n",
    "# axes[1,1].plot(ideal_test, '--', label=\"Ideal\", lw=2, color=\"purple\")\n",
    "axes[1,1].plot(y_pred_ridge, '--', lw=2, color='green', label=\"Ridge\")\n",
    "axes[1,1].set_title(\"Ridge vs Ideal\",)\n",
    "axes[1,1].legend()\n",
    " \n",
    "axes[1,2].plot(y_test, label=\"Actual\", lw=2)\n",
    "axes[1,2].plot(y_pred_lasso, '--', lw=2, color='blue', label=\"Lasso\")\n",
    "axes[1,2].set_title(\"Lasso vs Ideal\",)\n",
    "axes[1,2].legend()\n",
    " \n",
    "plt.tight_layout()\n",
    "plt.show()"
   ]
  },
  {
   "cell_type": "markdown",
   "metadata": {},
   "source": [
    " You can see visually how much more the predictions deviate from the ideal target values for the ordinary and ridge regression results than for the Lasso result.\n"
   ]
  },
  {
   "cell_type": "markdown",
   "metadata": {},
   "source": [
    "### Model coefficients\n",
    "Let's take a look at the coefficients for each model fit\n"
   ]
  },
  {
   "cell_type": "code",
   "execution_count": null,
   "metadata": {},
   "outputs": [],
   "source": [
    "# Model coefficients\n",
    "linear_coeff = linear.coef_\n",
    "ridge_coeff = ridge.coef_\n",
    "lasso_coeff = lasso.coef_\n",
    "\n",
    "\n",
    "# Plot the coefficients\n",
    "x_axis = np.arange(len(linear_coeff))\n",
    "x_labels = np.arange(min(x_axis),max(x_axis),10)\n",
    "plt.figure(figsize=(12, 6))\n",
    "\n",
    "plt.scatter(x_axis, ideal_coef,  label='Ideal', color='blue', ec='k', alpha=0.4)\n",
    "plt.bar(x_axis - 0.25, linear_coeff, width=0.25, label='Linear Regression', color='blue')\n",
    "plt.bar(x_axis, ridge_coeff, width=0.25, label='Ridge Regression', color='green')\n",
    "plt.bar(x_axis + 0.25, lasso_coeff, width=0.25, label='Lasso Regression', color='red')\n",
    "\n",
    "plt.xlabel('Feature Index')\n",
    "plt.ylabel('Coefficient Value')\n",
    "plt.title('Comparison of Model Coefficients')\n",
    "plt.xticks(x_labels)\n",
    "plt.legend()\n",
    "plt.show()\n",
    "\n",
    "\n",
    "# Plot the coefficient residuals\n",
    "x_axis = np.arange(len(linear_coeff))\n",
    "\n",
    "plt.figure(figsize=(12, 6))\n",
    "\n",
    "plt.bar(x_axis - 0.25, ideal_coef - linear_coeff, width=0.25, label='Linear Regression', color='blue')\n",
    "plt.bar(x_axis, ideal_coef - ridge_coeff, width=0.25, label='Ridge Regression', color='green')\n",
    "# plt.bar(x_axis + 0.25, ideal_coef - lasso_coeff, width=0.25, label='Lasso Regression', color='red')\n",
    "plt.plot(x_axis, ideal_coef - lasso_coeff, label='Lasso Regression', color='red')\n",
    "\n",
    "plt.xlabel('Feature Index')\n",
    "plt.ylabel('Coefficient Value')\n",
    "plt.title('Comparison of Model Coefficient Residuals')\n",
    "plt.xticks(x_labels)\n",
    "plt.legend()\n",
    "plt.show()"
   ]
  },
  {
   "cell_type": "markdown",
   "metadata": {},
   "source": [
    "You can see from the first plot how much closer the Lasso coefficients are to the ideal coefficients than for the other two models.\n",
    "An easier way to visualize the difference is to look at the residual errors, as in the second plot. Clearly the Lasso coefficient residuals are much closer to zero than the others.\n"
   ]
  },
  {
   "cell_type": "markdown",
   "metadata": {},
   "source": [
    "### Use Lasso to select the most important features and compare the three different linear regression models again on the resulting data.\n"
   ]
  },
  {
   "cell_type": "markdown",
   "metadata": {},
   "source": [
    "#### Part 1. Choose a threshold value to select features based on the Lasso model coefficients\n",
    "Use the coefficient residual plot to select a reasonable threshold value, beyond which the Lasso coefficients are significant.\n",
    "To find a good threshold you can visually inspect the residuals plot and choose a value that distinguishes coefficients with larger than normal residuals.\n",
    "\n",
    "Create a dataframe to compare the Lasso coefficients with the ideal coefficients, for the features selected with the Lasso coefficent threshold.\n",
    "\n",
    "Include a boolean column that indicates whether the feature was selected as being important by the Lasso coefficent thresholding.\n",
    "\n",
    "Display two filtered versions of the resulting dataframe:\n",
    "\n",
    "1. Only those features identified as important by Lasso\n",
    "\n",
    "2. Only the nonzero ideal coefficient indices\n",
    "\n",
    "How did we do?\n"
   ]
  },
  {
   "cell_type": "code",
   "execution_count": null,
   "metadata": {},
   "outputs": [],
   "source": [
    "threshold = 5 # selected by inspection of residuals plot\n",
    "\n",
    "# Create a dataframe containing the Lasso model and ideal coefficients\n",
    "feature_importance_df = pd.DataFrame({\n",
    "    'Lasso Coefficient': lasso_coeff,\n",
    "    'Ideal Coefficient': ideal_coef\n",
    "})\n",
    "\n",
    "# Mark the selected features\n",
    "feature_importance_df['Feature Selected'] = feature_importance_df['Lasso Coefficient'].abs() > threshold\n",
    "\n",
    "\n",
    "print(\"Features Identified as Important by Lasso:\")\n",
    "display(feature_importance_df[feature_importance_df['Feature Selected']])\n",
    "\n",
    "print(\"\\nNonzero Ideal Coefficient Indices\")\n",
    "display(feature_importance_df[feature_importance_df['Ideal Coefficient']>0])\n",
    "\n"
   ]
  },
  {
   "cell_type": "markdown",
   "metadata": {},
   "source": [
    "The result is very good. We managed to correctly identify 9 out of the 10 important features.\n",
    "#### Part 2. Use the threshold to select the most important features for use in modelling.\n",
    "Also split your data into train, test sets, including the ideal targets. How many features did you end up selecting?\n"
   ]
  },
  {
   "cell_type": "code",
   "execution_count": null,
   "metadata": {},
   "outputs": [],
   "source": [
    "important_features = feature_importance_df[feature_importance_df['Feature Selected']].index"
   ]
  },
  {
   "cell_type": "code",
   "execution_count": null,
   "metadata": {},
   "outputs": [],
   "source": [
    "# Filter features\n",
    "X_filtered = X[:, important_features]\n",
    "print(\"Shape of the filtered feature set:\", X_filtered.shape)\n",
    "\n",
    "# Split the dataset into training and testing sets\n",
    "X_train, X_test, y_train, y_test, ideal_train, ideal_test = train_test_split(X_filtered, y, ideal_predictions, test_size=0.3, random_state=42)"
   ]
  },
  {
   "cell_type": "markdown",
   "metadata": {},
   "source": [
    "#### Part 3. Fit and apply the three models to the selected features\n"
   ]
  },
  {
   "cell_type": "code",
   "execution_count": null,
   "metadata": {},
   "outputs": [],
   "source": [
    "# Initialize the models\n",
    "lasso = Lasso(alpha=0.1)\n",
    "ridge = Ridge(alpha=1.0)\n",
    "linear = LinearRegression()\n",
    "\n",
    "# Fit the models\n",
    "lasso.fit(X_train, y_train)\n",
    "ridge.fit(X_train, y_train)\n",
    "linear.fit(X_train, y_train)\n",
    "\n",
    "# Predict on the test set\n",
    "y_pred_linear = linear.predict(X_test)\n",
    "y_pred_ridge = ridge.predict(X_test)\n",
    "y_pred_lasso = lasso.predict(X_test)"
   ]
  },
  {
   "cell_type": "markdown",
   "metadata": {},
   "source": [
    "### Exercise 4. Print the regression performance results\n"
   ]
  },
  {
   "cell_type": "code",
   "execution_count": null,
   "metadata": {},
   "outputs": [],
   "source": [
    "# Enter your code here:\n",
    "regression_results(y_test, y_pred_linear, 'Ordinary')\n",
    "regression_results(y_test, y_pred_ridge, 'Ridge')\n",
    "regression_results(y_test, y_pred_lasso, 'Lasso')"
   ]
  },
  {
   "cell_type": "markdown",
   "metadata": {},
   "source": [
    "<details><summary>Click here for the solution</summary>\n",
    "\n",
    "\n",
    "```python\n",
    "regression_results(y_test, y_pred_linear, 'Ordinary')\n",
    "regression_results(y_test, y_pred_ridge, 'Ridge')\n",
    "regression_results(y_test, y_pred_lasso, 'Lasso')\n",
    "\n",
    "\n",
    "\n",
    "```\n"
   ]
  },
  {
   "cell_type": "markdown",
   "metadata": {},
   "source": [
    "### Let's compare the results to see the effect of feature selection using Lasso\n",
    "\n",
    "Here are the previous results:\n",
    "\n",
    "Evaluation metrics for Ordinary Linear Regression\n",
    "| Metric | Score |\n",
    "|:---|:---|\n",
    "|explained_variance: |0.4346 |\n",
    "|r2   |0.4012 |\n",
    "|MAE  | 77.7479 |\n",
    "|MSE  | 9855.428 |\n",
    "|RMSE   |99.2745 |\n",
    "\n",
    "Evaluation metrics for Ridge Linear Regression\n",
    "| Metric | score |\n",
    "|:---|:---|\n",
    "|explained_variance: | 0.4446|\n",
    "|r2  |0.4079|\n",
    "|MAE | 76.9622|\n",
    "|MSE  |9744.4693|\n",
    "|RMSE  |98.7141|\n",
    "\n",
    "Evaluation metrics for Lasso Linear Regression\n",
    "| Metric | score |\n",
    "|:---|:---|\n",
    "|explained_variance: | 0.9815|\n",
    "|r2  |0.9815|\n",
    "|MAE | 13.8855|\n",
    "|MSE  |304.644|\n",
    "|RMSE | 17.4541|\n",
    "\n",
    "The new results are vastly improved for ordinary and Ridge regression, and slightly improved for Lasso, supporting the idea that **Lasso regression can be very beneficial when used as a feature selector.**\n"
   ]
  },
  {
   "cell_type": "markdown",
   "metadata": {},
   "source": [
    "### Exercise 5. Regenerate the same plots as before and compare the results\n"
   ]
  },
  {
   "cell_type": "code",
   "execution_count": null,
   "metadata": {},
   "outputs": [],
   "source": [
    "# Enter your code here\n",
    "# Plot the predictions vs actuals\n"
   ]
  },
  {
   "cell_type": "markdown",
   "metadata": {},
   "source": [
    "<details><summary>Click here for the solution</summary>\n",
    "\n",
    "\n",
    "```python\n",
    "\n",
    "# Plot the predictions vs actuals \n",
    "fig, axes = plt.subplots(2, 3, figsize=(18, 10), sharey=True)\n",
    "\n",
    "axes[0,0].scatter(y_test, y_pred_linear, color=\"red\", label=\"Linear\")\n",
    "axes[0,0].plot([y_test.min(), y_test.max()], [y_test.min(), y_test.max()], 'k--')\n",
    "axes[0,0].set_title(\"Linear Regression\",)\n",
    "axes[0,0].set_xlabel(\"Actual\",)\n",
    "\n",
    "axes[0,2].scatter(y_test, y_pred_lasso, color=\"blue\", label=\"Lasso\")\n",
    "axes[0,2].plot([y_test.min(), y_test.max()], [y_test.min(), y_test.max()], 'k--')\n",
    "axes[0,2].set_title(\"Lasso Regression\",)\n",
    "axes[0,2].set_xlabel(\"Actual\",)\n",
    "axes[0,2].set_ylabel(\"Predicted\",)\n",
    "\n",
    "axes[0,1].scatter(y_test, y_pred_ridge, color=\"green\", label=\"Ridge\")\n",
    "axes[0,1].plot([y_test.min(), y_test.max()], [y_test.min(), y_test.max()], 'k--')\n",
    "axes[0,1].set_title(\"Ridge Regression\",)\n",
    "axes[0,1].set_xlabel(\"Actual\",)\n",
    "\n",
    "axes[0,2].scatter(y_test, y_pred_lasso, color=\"blue\", label=\"Lasso\")\n",
    "axes[0,2].plot([y_test.min(), y_test.max()], [y_test.min(), y_test.max()], 'k--')\n",
    "axes[0,2].set_title(\"Lasso Regression\",)\n",
    "axes[0,2].set_xlabel(\"Actual\",)\n",
    "axes[0,2].set_ylabel(\"Predicted\",)\n",
    "\n",
    "# Line plots for predictions compared to actual and ideal predictions\n",
    "axes[1,0].plot(y_test, label=\"Actual\", lw=2)\n",
    "axes[1,0].plot(y_pred_linear, '--', lw=2, color='red', label=\"Linear\")\n",
    "axes[1,0].set_title(\"Linear vs Ideal\",)\n",
    "axes[1,0].legend()\n",
    " \n",
    "axes[1,1].plot(y_test, label=\"Actual\", lw=2)\n",
    "axes[1,1].plot(y_pred_ridge, '--', lw=2, color='green', label=\"Ridge\")\n",
    "axes[1,1].set_title(\"Ridge vs Ideal\",)\n",
    "axes[1,1].legend()\n",
    " \n",
    "axes[1,2].plot(y_test, label=\"Actual\", lw=2)\n",
    "axes[1,2].plot(y_pred_lasso, '--', lw=2, color='blue', label=\"Lasso\")\n",
    "axes[1,2].set_title(\"Lasso vs Ideal\",)\n",
    "axes[1,2].legend()\n",
    "\n",
    "plt.tight_layout()\n",
    "plt.show()\n",
    "\n",
    "\n",
    "```\n",
    "\n",
    "<details><summary>Click here for comparison</summary>\n",
    "As you can see, with the assistance of Lasso feature selection, all three models have performed extremely well! \n"
   ]
  },
  {
   "cell_type": "markdown",
   "metadata": {},
   "source": [
    "### Congratulations! You're ready to move on to your next lesson!\n",
    " \n",
    " \n",
    "## Author\n",
    "<a href=\"https://www.linkedin.com/in/jpgrossman/\" target=\"_blank\">Jeff Grossman</a>\n",
    "\n",
    "\n",
    "### Other Contributors\n",
    "<a href=\"https://www.linkedin.com/in/abhishek-gagneja-23051987/\" target=\"_blank\">Abhishek Gagneja</a>\n",
    "\n",
    "<!-- \n",
    "## Changelog\n",
    "\n",
    "| Date | Version | Changed by | Change Description |\n",
    "|:------------|:------|:------------------|:---------------------------------------|\n",
    "| 2024-11-05 | 1.0  | Jeff Grossman    | Create content |\n",
    " -->\n",
    "\n",
    "\n",
    "## <h3 align=\"center\"> © IBM Corporation. All rights reserved. <h3/>\n"
   ]
  }
 ],
 "metadata": {
  "kernelspec": {
   "display_name": "Python 3 (ipykernel)",
   "language": "python",
   "name": "python3"
  },
  "language_info": {
   "codemirror_mode": {
    "name": "ipython",
    "version": 3
   },
   "file_extension": ".py",
   "mimetype": "text/x-python",
   "name": "python",
   "nbconvert_exporter": "python",
   "pygments_lexer": "ipython3",
   "version": "3.12.8"
  },
  "prev_pub_hash": "5171ffc79f06dae955c4d2ffc092a5f06eaaa18a801aac84bd7a7e3ec2e2b836"
 },
 "nbformat": 4,
 "nbformat_minor": 4
}
